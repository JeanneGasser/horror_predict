{
 "cells": [
  {
   "cell_type": "code",
   "execution_count": 1,
   "metadata": {},
   "outputs": [],
   "source": [
    "import nltk\n",
    "#nltk.download()\n",
    "import zipfile\n",
    "import unidecode\n",
    "import numpy as np\n",
    "import pandas as pd\n",
    "import seaborn as sns\n",
    "from string import punctuation\n",
    "import matplotlib.pyplot as plt\n",
    "from nltk.corpus import stopwords\n",
    "from nltk.tokenize import wordpunct_tokenize\n"
   ]
  },
  {
   "cell_type": "code",
   "execution_count": 2,
   "metadata": {},
   "outputs": [],
   "source": [
    "wd = \"C:/Users/jeann/Documents/prog_python/horror_predict/\""
   ]
  },
  {
   "cell_type": "code",
   "execution_count": 3,
   "metadata": {},
   "outputs": [],
   "source": [
    "#Files were zipped, needed to unzip\n",
    "names = ['test','train','sample_submission']\n",
    "for name in names:\n",
    "    with zipfile.ZipFile(wd + name + '.zip', 'r') as zip_ref:\n",
    "        zip_ref.extractall(wd)"
   ]
  },
  {
   "cell_type": "code",
   "execution_count": 4,
   "metadata": {},
   "outputs": [],
   "source": [
    "train = pd.read_csv(wd + \"train.csv\")\n",
    "test = pd.read_csv(wd + \"test.csv\")\n",
    "sample_submission = pd.read_csv(wd + \"sample_submission.csv\")"
   ]
  },
  {
   "cell_type": "markdown",
   "metadata": {},
   "source": [
    "# Text Cleaning"
   ]
  },
  {
   "cell_type": "code",
   "execution_count": 5,
   "metadata": {},
   "outputs": [],
   "source": [
    "def text_cleaning(text):\n",
    "    \"\"\"\"\n",
    "    Clean text of accent, punctuation, excess white spaces and remove stopwords \n",
    "    \"\"\"\n",
    "    stop_eng = set(stopwords.words('english'))\n",
    "\n",
    "    text = unidecode.unidecode(text.lower().strip())\n",
    "    text = \" \".join(w for w in wordpunct_tokenize(text) if w not in punctuation)\n",
    "    return \" \".join(w for w in wordpunct_tokenize(text) if w not in stop_eng)\n",
    "\n",
    "train['text_clean'] = train['text'].apply(lambda x: text_cleaning(x))\n",
    "test['text_clean'] = test['text'].apply(lambda x: text_cleaning(x))"
   ]
  },
  {
   "cell_type": "markdown",
   "metadata": {},
   "source": [
    "# Graphical Analysis of Text"
   ]
  },
  {
   "cell_type": "code",
   "execution_count": 6,
   "metadata": {},
   "outputs": [],
   "source": [
    "#Construct a dictionnary containing the cleaned corpus for each author\n",
    "#Then for each author we build a dictionnary containing the word frequency of the cleaned text.\n",
    "byAuth = train.groupby('author')\n",
    "authdict = {}\n",
    "for name, group in byAuth:\n",
    "    text = (\" \".join(group['text_clean']))\n",
    "\n",
    "    words = wordpunct_tokenize(text)\n",
    "    #FreqDist => Create a dictionnary of the words with their frequencies in the text\n",
    "    freq = nltk.FreqDist(words)\n",
    "    #For each author we have a dictionnary of the word frequencies in the text \n",
    "    authdict[name]=(freq)\n",
    "    "
   ]
  },
  {
   "cell_type": "code",
   "execution_count": 7,
   "metadata": {},
   "outputs": [],
   "source": [
    "def auth_wordfreq_plot(word,print = True):\n",
    "    \"\"\"\"\n",
    "    Return a graph of the word frequency between the different author  \n",
    "    \"\"\"\n",
    "    freqlist = []\n",
    "    for i in authdict.keys():\n",
    "        wordfreq = authdict[i].freq(word)\n",
    "        freqlist.append(wordfreq)\n",
    "        if print:\n",
    "            print(\"blood: \" + i)\n",
    "            print(wordfreq)\n",
    "            print(\"\\n\")\n",
    "    return sns.barplot(x=list(authdict.keys()), y = freqlist)"
   ]
  },
  {
   "cell_type": "code",
   "execution_count": 8,
   "metadata": {},
   "outputs": [
    {
     "data": {
      "text/plain": [
       "<matplotlib.axes._subplots.AxesSubplot at 0x24d455cbf60>"
      ]
     },
     "execution_count": 8,
     "metadata": {},
     "output_type": "execute_result"
    },
    {
     "data": {
      "image/png": "[encoded data removed]",
      "text/plain": [
       "<Figure size 432x288 with 1 Axes>"
      ]
     },
     "metadata": {},
     "output_type": "display_data"
    }
   ],
   "source": [
    "auth_wordfreq_plot(\"scream\",print = False)\n"
   ]
  },
  {
   "cell_type": "markdown",
   "metadata": {},
   "source": [
    "# First submission : probability calculation, No text cleaning"
   ]
  },
  {
   "cell_type": "code",
   "execution_count": 9,
   "metadata": {},
   "outputs": [],
   "source": [
    "def auth_predict(text):\n",
    "    final_score = {}\n",
    "    tokens = wordpunct_tokenize(text)\n",
    "    for i in authdict.keys():\n",
    "        score = []\n",
    "        for word in tokens:\n",
    "            #smoothing, to avoid having any value at exactly 0 and ruining finale score\n",
    "            score.append(authdict[i].freq(word)+0.000001)\n",
    "        #Calculate the joint proba => product of each word proba\n",
    "        final_score[i] = np.prod(score)\n",
    "\n",
    "    return final_score"
   ]
  },
  {
   "cell_type": "code",
   "execution_count": 10,
   "metadata": {},
   "outputs": [],
   "source": [
    "#Shape the data in a similar way to the sample submission\n",
    "sub = test.copy()\n",
    "for auth in authdict.keys():\n",
    "    sub[auth]= sub['text'].apply(lambda x: auth_predict(x)[auth])\n",
    "    "
   ]
  },
  {
   "cell_type": "code",
   "execution_count": 11,
   "metadata": {},
   "outputs": [
    {
     "data": {
      "text/html": [
       "<div>\n",
       "<style scoped>\n",
       "    .dataframe tbody tr th:only-of-type {\n",
       "        vertical-align: middle;\n",
       "    }\n",
       "\n",
       "    .dataframe tbody tr th {\n",
       "        vertical-align: top;\n",
       "    }\n",
       "\n",
       "    .dataframe thead th {\n",
       "        text-align: right;\n",
       "    }\n",
       "</style>\n",
       "<table border=\"1\" class=\"dataframe\">\n",
       "  <thead>\n",
       "    <tr style=\"text-align: right;\">\n",
       "      <th></th>\n",
       "    </tr>\n",
       "    <tr>\n",
       "      <th>id</th>\n",
       "    </tr>\n",
       "  </thead>\n",
       "  <tbody>\n",
       "    <tr>\n",
       "      <th>id02310</th>\n",
       "    </tr>\n",
       "    <tr>\n",
       "      <th>id24541</th>\n",
       "    </tr>\n",
       "    <tr>\n",
       "      <th>id00134</th>\n",
       "    </tr>\n",
       "    <tr>\n",
       "      <th>id27757</th>\n",
       "    </tr>\n",
       "    <tr>\n",
       "      <th>id04081</th>\n",
       "    </tr>\n",
       "  </tbody>\n",
       "</table>\n",
       "</div>"
      ],
      "text/plain": [
       "Empty DataFrame\n",
       "Columns: []\n",
       "Index: [id02310, id24541, id00134, id27757, id04081]"
      ]
     },
     "execution_count": 11,
     "metadata": {},
     "output_type": "execute_result"
    }
   ],
   "source": [
    "sub = test.drop(['text','text_clean'],axis = 1)\n",
    "sub.set_index(\"id\", inplace=True)\n",
    "sub.head()"
   ]
  },
  {
   "cell_type": "code",
   "execution_count": 12,
   "metadata": {},
   "outputs": [],
   "source": [
    "sub.to_csv(\"submission_v01.csv\")"
   ]
  },
  {
   "cell_type": "markdown",
   "metadata": {},
   "source": [
    "# Second Submission: Same as before but with text cleaning \n",
    "Score has improved slightly : 1.06580\n",
    "But the improvement is so small, it's probably not interesting to continue in line of thought"
   ]
  },
  {
   "cell_type": "code",
   "execution_count": 13,
   "metadata": {},
   "outputs": [],
   "source": [
    "sub = test.copy()\n",
    "for auth in authdict.keys():\n",
    "    sub[auth]= sub['text_clean'].apply(lambda x: auth_predict(x)[auth])\n",
    "sub = test.drop(['text','text_clean'],axis = 1)\n",
    "sub.set_index(\"id\", inplace=True)\n",
    "sub.to_csv(\"submission_v02.csv\")"
   ]
  },
  {
   "cell_type": "markdown",
   "metadata": {},
   "source": [
    "# Third submission: Logistic regression \n",
    "## Feature Building:\n",
    "Construct a tfidf matrix of the cleaned text. see the difference between raw/clean text\n",
    "Other improvement ideas: Stemming, semantic value of the words (author may use more adverbs? need some data explo)"
   ]
  },
  {
   "cell_type": "code",
   "execution_count": 15,
   "metadata": {},
   "outputs": [],
   "source": [
    "from sklearn.linear_model import LogisticRegression"
   ]
  },
  {
   "cell_type": "code",
   "execution_count": null,
   "metadata": {},
   "outputs": [],
   "source": []
  },
  {
   "cell_type": "code",
   "execution_count": null,
   "metadata": {},
   "outputs": [],
   "source": []
  },
  {
   "cell_type": "code",
   "execution_count": null,
   "metadata": {},
   "outputs": [],
   "source": []
  },
  {
   "cell_type": "code",
   "execution_count": null,
   "metadata": {},
   "outputs": [],
   "source": []
  },
  {
   "cell_type": "code",
   "execution_count": null,
   "metadata": {},
   "outputs": [],
   "source": []
  },
  {
   "cell_type": "code",
   "execution_count": null,
   "metadata": {},
   "outputs": [],
   "source": []
  },
  {
   "cell_type": "code",
   "execution_count": null,
   "metadata": {},
   "outputs": [],
   "source": []
  },
  {
   "cell_type": "code",
   "execution_count": null,
   "metadata": {},
   "outputs": [],
   "source": []
  },
  {
   "cell_type": "code",
   "execution_count": null,
   "metadata": {},
   "outputs": [],
   "source": []
  }
 ],
 "metadata": {
  "kernelspec": {
   "display_name": "Python 3",
   "language": "python",
   "name": "python3"
  },
  "language_info": {
   "codemirror_mode": {
    "name": "ipython",
    "version": 3
   },
   "file_extension": ".py",
   "mimetype": "text/x-python",
   "name": "python",
   "nbconvert_exporter": "python",
   "pygments_lexer": "ipython3",
   "version": "3.6.5"
  }
 },
 "nbformat": 4,
 "nbformat_minor": 2
}
